{
 "cells": [
  {
   "cell_type": "markdown",
   "metadata": {
    "hideCode": false,
    "hidePrompt": false,
    "slideshow": {
     "slide_type": "slide"
    }
   },
   "source": [
    "# Quora Question Pairs : a Machine Learning Overview\n",
    "## Can you identify question pairs that have the same intent?\n",
    "------------------------------------\n",
    "\n",
    "*This project is related to the Kaggle challenge \"Quora Question Pair\" for the detection of duplicate questions in Quora's database. In the context of Internet and and social networks, Quora is one of the main \"Question/Answers\" website, where thousands of users can find specific answers to a variety of topics, with more than 15 millions now (in june 2017). Because the overall number of questions is endlessly growing, the probability of finding duplicate questions or already answered questions is non zero. Hence, several issues can be pointed out: like misleading futures searches, or increasing the databases with duplicates... *\n"
   ]
  },
  {
   "cell_type": "markdown",
   "metadata": {
    "hideCode": false,
    "hidePrompt": false,
    "slideshow": {
     "slide_type": "slide"
    }
   },
   "source": [
    "\n",
    "### Introduction\n",
    "Over the last decades, with the exponential growth of collected data, a novel idea aim at avoiding to store duplicate data, hence limiting the storage of data,and avoiding end-users to do misleading searches. In this context, Quora stores millions of questions and answers that are upvoted by users, with the goal to provide a specialized question answer search engine. Similarly to specialized search engine, where the zero probability to only find unique search does not exist, in such question/answer website have the same issue. As already explained, in such website, avoiding useless duplicates is of major importance. This is achieved in two different way: finding duplicate questions and merging the answers in the database, or when a new question is asked.\n",
    "\n",
    "In the machine learning community, such approach is known as *instance matching* or *matching pairs* problems and lie in the *information/document retrieval* problems, with several methods based on some specific loss functions or similarity functions. Such methods as been successfully applied on a variety of problem from document/image matching based on some extracted features, but when tackling text data, using such approach become more difficult. \n",
    "\n",
    "In the natural language processing community, several method has been proposed to describe semantics and corpus of text data, e.g.g by introducing some specific features and specific representations of letter/word/sentences. Despite promising works, processing text is a tedious task, based on some prior knowledge of language and context. \n"
   ]
  },
  {
   "cell_type": "markdown",
   "metadata": {
    "hideCode": false,
    "hidePrompt": false,
    "slideshow": {
     "slide_type": "slide"
    }
   },
   "source": [
    "### Motivation of this work\n",
    "\n",
    "This project aim at investigating recent advances in both community, with the Quora Question Pair challenge as case study. This project is an empirical study that investigates the text matching pair problem with a machine learning and natural language processing perspective. After a series of preliminary experiments on the data we aim at investigating the representation of text and pairs w.r.t. different binary classifier.\n",
    "\n"
   ]
  },
  {
   "cell_type": "markdown",
   "metadata": {
    "hideCode": false,
    "hidePrompt": false,
    "slideshow": {
     "slide_type": "slide"
    }
   },
   "source": [
    "### Related Works\n",
    "### Bibliography\n",
    "\n",
    "**Martin, T., Shen, Y., & Azvine, B. (2008)**. Incremental evolution of fuzzy grammar fragments to enhance instance matching and text mining. IEEE Transactions on Fuzzy Systems, 16(6), 1425-1438.\n",
    "\n",
    "**Rong, S., Niu, X., Xiang, E., Wang, H., Yang, Q., & Yu, Y. (2012)**. A machine learning approach for instance matching based on similarity metrics. The Semantic Web–ISWC 2012, 460-475.\n",
    "\n",
    "**Liu, N., Zhang, B., Yan, J., Chen, Z., Liu, W., Bai, F., & Chien, L. (2005, November)**. Text representation: From vector to tensor. In Data Mining, Fifth IEEE International Conference on (pp. 4-pp). IEEE.\n",
    "\n",
    "**Harish, B. S., Guru, D. S., & Manjunath, S. (2010)**. Representation and classification of text documents: A brief review. IJCA, Special Issue on RTIPPR (2), 110-119.\n",
    "\n",
    "**Breiman, L. (2001)**. Random forests. Machine learning, 45(1), 5-32.\n",
    "\n",
    "**Chen, T., & Guestrin, C. (2016, August)**. Xgboost: A scalable tree boosting system. In Proceedings of the 22Nd ACM SIGKDD International Conference on Knowledge Discovery and Data Mining (pp. 785-794). ACM.\n",
    "\n",
    "**Mikolov, T., Karafiát, M., Burget, L., Cernocký, J., & Khudanpur, S. (2010, September)**. Recurrent neural network based language model. In Interspeech (Vol. 2, p. 3).\n",
    "\n",
    "**Gers, F. A., Schmidhuber, J., & Cummins, F. (2000)**. Learning to forget: Continual prediction with LSTM. Neural computation, 12(10), 2451-2471.\n",
    "\n",
    "**Parikh, A. P., Täckström, O., Das, D., & Uszkoreit, J. (2016)**. A decomposable attention model for natural language inference. arXiv preprint arXiv:1606.01933.\n",
    "\n",
    "**Bahdanau, D., Chorowski, J., Serdyuk, D., Brakel, P., & Bengio, Y. (2016, March)**. End-to-end attention-based large vocabulary speech recognition. In Acoustics, Speech and Signal Processing (ICASSP), 2016 IEEE International Conference on (pp. 4945-4949). IEEE.\n",
    "\n",
    "**Rocktäschel, T., Grefenstette, E., Hermann, K. M., Kočiský, T., & Blunsom, P. (2015)**. Reasoning about entailment with neural attention. arXiv preprint arXiv:1509.06664.\n",
    "\n",
    "**Huang, Z., Xu, W., & Yu, K. (2015)**. Bidirectional LSTM-CRF models for sequence tagging. arXiv preprint arXiv:1508.01991.\n",
    "\n",
    "**Yao, K., Cohn, T., Vylomova, K., Duh, K., & Dyer, C. (2015)**. Depth-gated LSTM. arXiv preprint arXiv:1508.03790.\n",
    "\n",
    "**Irie, K., Tüske, Z., Alkhouli, T., Schlüter, R., & Ney, H. (2016)**. LSTM, GRU, highway and a bit of attention: an empirical overview for language modeling in speech recognition. Interspeech, San Francisco, CA, USA.\n"
   ]
  },
  {
   "cell_type": "markdown",
   "metadata": {
    "hideCode": false,
    "hidePrompt": false,
    "slideshow": {
     "slide_type": "slide"
    }
   },
   "source": [
    "### Dataset\n",
    "\n",
    "#### Raw Data\n",
    "The following section introduces the Quora Question Pairs dataset and gives a quick overview of of the underlying behing the difficulty."
   ]
  },
  {
   "cell_type": "code",
   "execution_count": 5,
   "metadata": {
    "collapsed": true,
    "hideCode": true,
    "hideOutput": true,
    "hidePrompt": true
   },
   "outputs": [],
   "source": [
    "import os\n",
    "import numpy as np\n",
    "import pandas as pd\n",
    "import seaborn.apionly as sns\n",
    "import matplotlib.pyplot as plt\n",
    "import xgboost\n",
    "from xgboost import plot_tree\n",
    "from xgboost import plot_importance\n",
    "import matplotlib.pyplot as plt\n",
    "from graphviz import Digraph\n",
    "# load data\n",
    "import pydot\n",
    "plt.style.use('ggplot')\n",
    "from nltk.corpus import stopwords\n",
    "from nltk.stem import WordNetLemmatizer\n",
    "%matplotlib inline\n",
    "colors = sns.color_palette()\n",
    "\n",
    "from nltk.corpus import stopwords \n",
    "from nltk.stem import SnowballStemmer\n",
    "import re\n",
    "from string import punctuation\n",
    "\n",
    "stops = set(stopwords.words(\"english\"))\n",
    "\n",
    "def text_to_wordlist(text, remove_stopwords=True, stem_words=False):\n",
    "    # Clean the text, with the option to remove stopwords and to stem words.\n",
    "    # Convert words to lower case and split them\n",
    "    text = str(text)\n",
    "    text = text.lower().split()\n",
    "\n",
    "    # Optionally, remove stop words\n",
    "    if remove_stopwords:\n",
    "        stops = set(stopwords.words(\"english\"))\n",
    "        text = [w for w in text if not w in stops]\n",
    "\n",
    "    text = \" \".join(text)\n",
    "    # Clean the text\n",
    "    text = re.sub(r\"[^A-Za-z0-9^,!.\\/'+-=]\", \" \", text)\n",
    "    text = re.sub(r\"what's\", \"what is \", text)\n",
    "    text = re.sub(r\"\\'s\", \" \", text)\n",
    "    text = re.sub(r\"\\'ve\", \" have \", text)\n",
    "    text = re.sub(r\"can't\", \"cannot \", text)\n",
    "    text = re.sub(r\"n't\", \" not \", text)\n",
    "    text = re.sub(r\"i m\", \"i am\", text)\n",
    "    text = re.sub(r\"\\'re\", \" are \", text)\n",
    "    text = re.sub(r\"\\'m\", \" am \", text)\n",
    "    text = re.sub(r\"\\'d\", \" would \", text)\n",
    "    text = re.sub(r\"\\'ll\", \" will \", text)\n",
    "    text = re.sub(r\"60k\", \" 60000 \", text)\n",
    "    text = re.sub(r\" e g \", \" eg \", text)\n",
    "    text = re.sub(r\" b g \", \" bg \", text)\n",
    "    text = re.sub(r\" u s \", \" american \", text)\n",
    "    text = re.sub(r\"\\0s\", \"0\", text)\n",
    "    text = re.sub(r\" 9 11 \", \"911\", text)\n",
    "    text = re.sub(r\"e mail\", \"email\", text)\n",
    "    text = re.sub(r\"j k\", \"jk\", text)\n",
    "    text = re.sub(r\"\\s{2,}\", \" \", text)\n",
    "    text = re.sub(r\"quikly\", \"quickly\", text)\n",
    "    text = re.sub(r\"usa\", \"America\", text)\n",
    "    text = re.sub(r\"canada\", \"Canada\", text)\n",
    "    text = re.sub(r\"japan\", \"Japan\", text)\n",
    "    text = re.sub(r\"germany\", \"Germany\", text)\n",
    "    text = re.sub(r\"burma\", \"Burma\", text)\n",
    "    text = re.sub(r\"rohingya\", \"Rohingya\", text)\n",
    "    text = re.sub(r\"zealand\", \"Zealand\", text)\n",
    "    text = re.sub(r\"cambodia\", \"Cambodia\", text)\n",
    "    text = re.sub(r\"zealand\", \"Zealand\", text)\n",
    "    text = re.sub(r\"norway\", \"Norway\", text)\n",
    "    text = re.sub(r\" uk \", \" England \", text)\n",
    "    text = re.sub(r\"india\", \"India\", text)\n",
    "    text = re.sub(r\"pakistan\", \"Pakistan\", text)\n",
    "    text = re.sub(r\"britain\", \"Britain\", text)\n",
    "    text = re.sub(r\"switzerland\", \"Switzerland\", text)\n",
    "    text = re.sub(r\"china\", \"China\", text)\n",
    "    text = re.sub(r\"chinese\", \"Chinese\", text)\n",
    "    text = re.sub(r\"imrovement\", \"improvement\", text)\n",
    "    text = re.sub(r\"intially\", \"initially\", text)\n",
    "    text = re.sub(r\"quora\", \"Quora\", text)\n",
    "    text = re.sub(r\" dms \", \"direct messages \", text)\n",
    "    text = re.sub(r\"demonitization\", \"demonetization\", text)\n",
    "    text = re.sub(r\"actived\", \"active\", text)\n",
    "    text = re.sub(r\"kms\", \" kilometers \", text)\n",
    "    text = re.sub(r\" cs \", \" computer science \", text)\n",
    "    text = re.sub(r\" upvotes \", \" up votes \", text)\n",
    "    text = re.sub(r\" iphone \", \" phone \", text)\n",
    "    text = re.sub(r\"\\0rs \", \" rs \", text)\n",
    "    text = re.sub(r\"calender\", \"calendar\", text)\n",
    "    text = re.sub(r\"ios\", \"operating system\", text)\n",
    "    text = re.sub(r\"gps\", \"GPS\", text)\n",
    "    text = re.sub(r\"gst\", \"GST\", text)\n",
    "    text = re.sub(r\"programing\", \"programming\", text)\n",
    "    text = re.sub(r\"bestfriend\", \"best friend\", text)\n",
    "    text = re.sub(r\"dna\", \"DNA\", text)\n",
    "    text = re.sub(r\"iii\", \"3\", text)\n",
    "    text = re.sub(r\"california\", \"California\", text)\n",
    "    text = re.sub(r\"texas\", \"Texas\", text)\n",
    "    text = re.sub(r\"tennessee\", \"Tennessee\", text)\n",
    "    text = re.sub(r\"the us\", \"America\", text)\n",
    "    text = re.sub(r\"trump\", \"Trump\", text)\n",
    "\n",
    "    # Remove punctuation from text\n",
    "    text = ''.join([c for c in text if c not in punctuation])\n",
    "\n",
    "    # Optionally, shorten words to their stems\n",
    "    if stem_words:  \n",
    "        text = text.split()\n",
    "        stemmer = SnowballStemmer('english')\n",
    "        stemmed_words = [stemmer.stem(word) for word in text]\n",
    "        text = \" \".join(stemmed_words)\n",
    "\n",
    "    # Return a list of words\n",
    "    return(text)\n",
    "\n",
    "def check_word_match(row):\n",
    "    q1words = {}\n",
    "    q2words = {}\n",
    "    for word in str(row['question1']).lower().split():\n",
    "        if word not in stops:\n",
    "            q1words[word] = 1\n",
    "    for word in str(row['question2']).lower().split():\n",
    "        if word not in stops:\n",
    "            q2words[word] = 1\n",
    "    if len(q1words) == 0 or len(q2words) == 0:\n",
    "        # The computer-generated chaff includes a few questions that are nothing but stopwords\n",
    "        return 0\n",
    "    shared_words_in_q1 = [w for w in q1words.keys() if w in q2words]\n",
    "    shared_words_in_q2 = [w for w in q2words.keys() if w in q1words]\n",
    "    R = float((len(shared_words_in_q1) + len(shared_words_in_q2)))/float((len(q1words) + len(q2words)))\n",
    "    return R\n",
    "\n",
    "def word_shares(row):\n",
    "    q1 = set(str(row['question1']).lower().split())\n",
    "    q2 = set(str(row['question2']).lower().split())\n",
    "    q1words = q1.difference(stops)\n",
    "    q2words = q2.difference(stops)\n",
    "    \n",
    "    if len(q1words) == 0 or len(q2words) == 0:\n",
    "            return '0:0:0:0'\n",
    "    \n",
    "    q1stops = q1.intersection(stops)\n",
    "    q2stops = q2.intersection(stops)\n",
    "    shared_words = q1words.intersection(q2words)\n",
    "    \n",
    "    shared_w_ratio = len(shared_words) / (len(q1words) + len(q2words))\n",
    "    stops_q1_ratio = len(q1stops) / len(q1words)\n",
    "    stops_q2_ratio= len(q2stops) / len(q2words)\n",
    "    return '{}:{}:{}:{}'.format(shared_w_ratio, len(shared_words), stops_q1_ratio, stops_q2_ratio)\n",
    "\n",
    "\n",
    "def similarity(row):\n",
    "    q1 = set(str(row['question1']).lower().split())\n",
    "    q2 = set(str(row['question2']).lower().split())\n",
    "    x, y, xy = len(q1), len(q2), len(q1.intersection(q2))\n",
    "    \n",
    "    # Dice\n",
    "    if (x+y)==0:\n",
    "        dice = 0\n",
    "    else:\n",
    "        dice = 2*xy / (x + y)\n",
    "   \n",
    "    # Jaccard\n",
    "    if len(q1.union(q2)) ==0:\n",
    "        jaccard = 0\n",
    "    else:\n",
    "        jaccard = xy / len(q1.union(q2))\n",
    "    \n",
    "    # Simpson, Cosine\n",
    "    if min(x, y)==0:\n",
    "        simpson = 0\n",
    "        cosine = 0\n",
    "    else:\n",
    "        simpson = xy / min(x, y)\n",
    "        cosine = xy / np.sqrt(x*y)\n",
    "    \n",
    "    # 信頼度\n",
    "    if x==0:\n",
    "        confidence1 = 0\n",
    "    else:\n",
    "        confidence1= xy / x\n",
    "    if y==0:\n",
    "        confidence2 = 0\n",
    "    else:\n",
    "        confidence2= xy / y\n",
    "        \n",
    "    return '{}:{}:{}:{}:{}:{}:{}:{}:{}'.format(x, y, xy, dice, jaccard, simpson, cosine, confidence1, confidence2)"
   ]
  },
  {
   "cell_type": "code",
   "execution_count": 6,
   "metadata": {
    "collapsed": true
   },
   "outputs": [],
   "source": [
    "quora_train = pd.read_csv('/home/nacim/DATASET_KAGGLE/quora/train.csv')"
   ]
  },
  {
   "cell_type": "code",
   "execution_count": 7,
   "metadata": {
    "hideCode": true,
    "hidePrompt": false,
    "slideshow": {
     "slide_type": "slide"
    }
   },
   "outputs": [
    {
     "name": "stdout",
     "output_type": "stream",
     "text": [
      "Total number of question pairs for training: 404290\n",
      "Duplicate pairs: 36.92%\n",
      "Total number of questions in the training data: 537933\n",
      "Number of questions that appear multiple times: 111780\n"
     ]
    },
    {
     "data": {
      "image/png": "[encoded data removed]",
      "text/plain": [
       "<matplotlib.figure.Figure at 0x7f15f0f7d150>"
      ]
     },
     "metadata": {},
     "output_type": "display_data"
    }
   ],
   "source": [
    "print('Total number of question pairs for training: {}'.format(len(quora_train)))\n",
    "print('Duplicate pairs: {}%'.format(round(quora_train['is_duplicate'].mean()*100, 2)))\n",
    "qids = pd.Series(quora_train['qid1'].tolist() + quora_train['qid2'].tolist())\n",
    "print('Total number of questions in the training data: {}'.format(len(\n",
    "    np.unique(qids))))\n",
    "print('Number of questions that appear multiple times: {}'.format(np.sum(qids.value_counts() > 1)))\n",
    "\n",
    "plt.figure()\n",
    "plt.hist(qids.value_counts(), range=[0, 80],bins=100)\n",
    "plt.yscale('log', nonposy='clip')\n",
    "plt.title('Log-Histogram of question appearance counts')\n",
    "plt.xlabel('Number of occurences of question')\n",
    "plt.ylabel('Number of questions')\n",
    "plt.savefig('figures/log_histogram.png',bbox_inches='tight')"
   ]
  },
  {
   "cell_type": "code",
   "execution_count": 9,
   "metadata": {
    "slideshow": {
     "slide_type": "slide"
    }
   },
   "outputs": [
    {
     "name": "stdout",
     "output_type": "stream",
     "text": [
      "mean train = 59.8600497168 +/- std strain = 31.9883833431, median=51.0 \n",
      "min train = 1,  max strain = 1169 \n"
     ]
    },
    {
     "data": {
      "image/png": "[encoded data removed]",
      "text/plain": [
       "<matplotlib.figure.Figure at 0x7f15f0dc2bd0>"
      ]
     },
     "metadata": {},
     "output_type": "display_data"
    }
   ],
   "source": [
    "overallquestions = pd.Series(quora_train['question1'].tolist() + quora_train['question2'].tolist()).astype(str)\n",
    "\n",
    "histo_char = overallquestions.apply(len)\n",
    "print(r\"mean train = {0} +/- std strain = {1}, median={2} \".format(histo_char.mean(),\n",
    "                                                                   histo_char.std(),\n",
    "                                                                   histo_char.median()))\n",
    "print(r\"min train = {0},  max strain = {1} \".format(histo_char.min(),histo_char.max()))\n",
    "\n",
    "plt.figure()\n",
    "plt.hist(histo_char, bins=100, range=[0, 250], normed=True,color='green')\n",
    "plt.title('Normalised histogram of character count in questions', fontsize=13)\n",
    "plt.xlabel('Number of characters', fontsize=15)\n",
    "plt.ylabel('Probability', fontsize=15)\n",
    "plt.tight_layout()\n",
    "plt.savefig('character_counts.',bbox_inches='tight')"
   ]
  },
  {
   "cell_type": "code",
   "execution_count": 12,
   "metadata": {
    "slideshow": {
     "slide_type": "slide"
    }
   },
   "outputs": [
    {
     "name": "stdout",
     "output_type": "stream",
     "text": [
      "mean train = 11.0648556729 +/- std strain = 5.88916765019, median=10.0 \n",
      "min train = 1,  max strain = 237 \n"
     ]
    },
    {
     "data": {
      "image/png": "[encoded data removed]",
      "text/plain": [
       "<matplotlib.figure.Figure at 0x7f15ef603190>"
      ]
     },
     "metadata": {},
     "output_type": "display_data"
    }
   ],
   "source": [
    "histo_words = overallquestions.apply(lambda x: len(x.split(' ')))\n",
    "print(r\"mean train = {0} +/- std strain = {1}, median={2} \".format(histo_words.mean(),\n",
    "                                                                   histo_words.std(),\n",
    "                                                                   histo_words.median()))\n",
    "print(r\"min train = {0},  max strain = {1} \".format(histo_words.min(),histo_words.max()))\n",
    "plt.hist(histo_words, bins=100, range=[0, 50], color='blue', normed=True)\n",
    "plt.title('Normalised histogram of word count in questions', fontsize=12)\n",
    "plt.legend()\n",
    "plt.xlabel('Number of words', fontsize=15)\n",
    "plt.ylabel('Probability', fontsize=15)\n",
    "plt.savefig('word_counts.pdf',bbox_inches='tight')"
   ]
  },
  {
   "cell_type": "code",
   "execution_count": 13,
   "metadata": {
    "hideCode": true,
    "hidePrompt": true,
    "slideshow": {
     "slide_type": "slide"
    }
   },
   "outputs": [
    {
     "name": "stdout",
     "output_type": "stream",
     "text": [
      "Summary Statistics\n",
      "Qustions marks: mean=99.8738529274% +/- 3.54947801524%;\t median=100.0%\n",
      "Full Stops: mean=6.3082193475% +/- 24.3110736788%;\t median=0.0%\n",
      "With Numbers: mean=11.8260407133% +/- 32.2916217057%;\t median=0.0%\n",
      "Capital First: mean=99.8110267382% +/- 4.34299611825%;\t median=100.0%\n",
      "With Capital ase Letters: mean=99.9485517821% +/- 2.26763640543%;\t median=100.0%\n",
      "With Lower Case Letters: mean=99.9810779391% +/- 1.37544467184%;\t median=100.0%\n"
     ]
    }
   ],
   "source": [
    "qmarks = overallquestions.apply(lambda x: '?' in x)\n",
    "fullstop = overallquestions.apply(lambda x: '.' in x)\n",
    "capital_first = overallquestions.apply(lambda x: x[0].isupper())\n",
    "capitals = overallquestions.apply(lambda x: max([y.isupper() for y in x]))\n",
    "lower = overallquestions.apply(lambda x: max([y.islower() for y in x]))\n",
    "numbers = overallquestions.apply(lambda x: max([y.isdigit() for y in x]))\n",
    "print('Summary Statistics')\n",
    "print('Qustions marks: mean={0}% +/- {1}%;\\t median={2}%'.format(np.mean(qmarks)*100,\n",
    "                                                              np.std(qmarks)*100,\n",
    "                                                              np.median(qmarks)*100))\n",
    "\n",
    "print('Full Stops: mean={0}% +/- {1}%;\\t median={2}%'.format(np.mean(fullstop)*100,\n",
    "                                                              np.std(fullstop)*100,\n",
    "                                                              np.median(fullstop)*100))\n",
    "\n",
    "print('With Numbers: mean={0}% +/- {1}%;\\t median={2}%'.format(np.mean(numbers)*100,\n",
    "                                                              np.std(numbers)*100,\n",
    "                                                              np.median(numbers)*100))\n",
    "\n",
    "print('Capital First: mean={0}% +/- {1}%;\\t median={2}%'.format(np.mean(capital_first)*100,\n",
    "                                                              np.std(capital_first)*100,\n",
    "                                                              np.median(capital_first)*100))\n",
    "\n",
    "print('With Capital ase Letters: mean={0}% +/- {1}%;\\t median={2}%'.format(np.mean(capitals)*100,\n",
    "                                                              np.std(capitals)*100,\n",
    "                                                              np.median(capitals)*100))\n",
    "\n",
    "print('With Lower Case Letters: mean={0}% +/- {1}%;\\t median={2}%'.format(np.mean(lower)*100,\n",
    "                                                              np.std(lower)*100,\n",
    "                                                              np.median(lower)*100))"
   ]
  },
  {
   "cell_type": "code",
   "execution_count": 15,
   "metadata": {
    "collapsed": true,
    "hideCode": true,
    "hidePrompt": true
   },
   "outputs": [],
   "source": [
    "train_word_match = quora_train.apply(check_word_match, axis=1, raw=True)"
   ]
  },
  {
   "cell_type": "code",
   "execution_count": 16,
   "metadata": {
    "hideCode": true,
    "hidePrompt": true,
    "slideshow": {
     "slide_type": "slide"
    }
   },
   "outputs": [
    {
     "data": {
      "image/png": "[encoded data removed]",
      "text/plain": [
       "<matplotlib.figure.Figure at 0x7f15ef652f90>"
      ]
     },
     "metadata": {},
     "output_type": "display_data"
    }
   ],
   "source": [
    "fig = plt.figure(figsize=(10,6))\n",
    "ax = fig.gca()\n",
    "for dup_value,label in zip([0,1],['Not Duplicate','Duplicate']):\n",
    "    x = train_word_match[quora_train['is_duplicate'] == dup_value]\n",
    "    sns.distplot(x,label=label,kde=True,norm_hist=False,kde_kws={\"lw\": 3})\n",
    "    plt.xlim([0,1])\n",
    "plt.title('Label distribution over check_word_match', fontsize=15)\n",
    "plt.xlabel('Probability', fontsize=15)\n",
    "plt.legend()\n",
    "plt.savefig('shared_words.pdf',bbox_inches='tight')"
   ]
  },
  {
   "cell_type": "markdown",
   "metadata": {},
   "source": [
    "* Different questions share more words than duplicate questions"
   ]
  },
  {
   "cell_type": "markdown",
   "metadata": {},
   "source": [
    "#### Cleaning Data\n",
    "Preliminary experiments have shown that several questions appears multiple time,  hence the training dataset appears to be slightly smaller than expected. As expected, some words have several occurences,e.g. articles or conjunctions... \n",
    "\n",
    "Therefore, when comparing the words that match in questions pairs, for each sample, we observe that duplicate questions tends to have words that matches.\n",
    "However, in order to improve the matching efficiency, a preliminary works aim at cleaning the question strings"
   ]
  },
  {
   "cell_type": "code",
   "execution_count": 18,
   "metadata": {
    "hideCode": true,
    "hideOutput": true,
    "hidePrompt": true
   },
   "outputs": [],
   "source": [
    "def clean_questionpairs(row):\n",
    "    row['question1'] = text_to_wordlist(row['question1'])\n",
    "    row['question2'] = text_to_wordlist(row['question2'])\n",
    "    return row\n",
    "if os.path.exists('data/train_clean.csv'):\n",
    "    quora_train_clean = pd.read_csv('data/train_clean.csv')\n",
    "else:\n",
    "    quora_train_clean = quora_train.copy()\n",
    "    quora_train_clean = quora_train_clean.apply(clean_questionpairs,axis=1)\n",
    "    quora_train_clean.to_csv('data/train_clean.csv',index=False)\n",
    "    \n",
    "    "
   ]
  },
  {
   "cell_type": "code",
   "execution_count": 19,
   "metadata": {
    "collapsed": true,
    "hideCode": true,
    "hideOutput": true,
    "hidePrompt": true
   },
   "outputs": [],
   "source": [
    "train_word_match_clean = quora_train_clean.apply(check_word_match, axis=1, raw=True)"
   ]
  },
  {
   "cell_type": "code",
   "execution_count": null,
   "metadata": {
    "collapsed": true
   },
   "outputs": [],
   "source": []
  },
  {
   "cell_type": "code",
   "execution_count": 21,
   "metadata": {
    "hideCode": false,
    "hidePrompt": true
   },
   "outputs": [
    {
     "data": {
      "image/png": "[encoded data removed]",
      "text/plain": [
       "<matplotlib.figure.Figure at 0x7f15be409b50>"
      ]
     },
     "metadata": {},
     "output_type": "display_data"
    }
   ],
   "source": [
    "fig = plt.figure(figsize=(10,6))\n",
    "ax = fig.gca()\n",
    "for dup_value,label in zip([0,1],['Not Duplicate','Duplicate']):\n",
    "    x = train_word_match_clean[quora_train_clean['is_duplicate'] == dup_value]\n",
    "    sns.distplot(x,label=label,kde=True,norm_hist=False,kde_kws={\"lw\": 3})\n",
    "    plt.xlim([0,1])\n",
    "plt.title('Label distribution over check_word_match from cleaned Dataset', fontsize=15)\n",
    "plt.xlabel('Probability', fontsize=15)\n",
    "plt.legend()\n",
    "plt.savefig('shared_words_cleaned.pdf',bbox_inches='tight')"
   ]
  },
  {
   "cell_type": "markdown",
   "metadata": {},
   "source": [
    "* non duplicate questions tends to share more words\n",
    "* when the probability  to share words is 0.65,  there are more duplicate questions"
   ]
  },
  {
   "cell_type": "code",
   "execution_count": 20,
   "metadata": {
    "hideCode": true,
    "hidePrompt": false
   },
   "outputs": [
    {
     "name": "stdout",
     "output_type": "stream",
     "text": [
      "Most common words and weights: \n",
      "\n",
      "[('best', 1.2419428954656666e-05), ('get', 2.0195084516428702e-05), ('india', 2.5383287643415574e-05), ('people', 2.7489897462682465e-05), ('like', 2.8169014084507043e-05), ('good', 2.875629043853343e-05), ('would', 2.9169826731229216e-05), ('not', 3.222687721559781e-05), ('one', 3.35536690937154e-05), ('quora', 3.548741970971291e-05)]\n"
     ]
    }
   ],
   "source": [
    "def word_match_share(row):\n",
    "    q1words = {}\n",
    "    q2words = {}\n",
    "    for word in str(row['question1']).lower().replace(\"-\",\"\").split():\n",
    "        if word not in stops:\n",
    "            q1words[word] = 1\n",
    "    for word in str(row['question2']).lower().replace(\"-\",\"\").split():\n",
    "        if word not in stops:\n",
    "            q2words[word] = 1\n",
    "    if len(q1words) == 0 or len(q2words) == 0:\n",
    "        # The computer-generated chaff includes a few questions that are nothing but stopwords\n",
    "        return 0\n",
    "    shared_words_in_q1 = [w for w in q1words.keys() if w in q2words]\n",
    "    shared_words_in_q2 = [w for w in q2words.keys() if w in q1words]\n",
    "    R = (len(shared_words_in_q1) + len(shared_words_in_q2))/float((len(q1words) + len(q2words)))\n",
    "    return R\n",
    "\n",
    "\n",
    "#TF-IDF\n",
    "from collections import Counter\n",
    "\n",
    "train_qs = pd.Series(quora_train_clean['question1'].tolist() + quora_train_clean['question2'].tolist()).astype(str)\n",
    "\n",
    "def get_weight(count, eps=10000, min_count=2):\n",
    "    if count < min_count:\n",
    "        return 0\n",
    "    else:\n",
    "        return 1 / float((count + eps))\n",
    "\n",
    "eps = 5000\n",
    "words = (\" \".join(train_qs)).lower().split()\n",
    "counts = Counter(words)\n",
    "weights = {word: get_weight(count) for word, count in counts.items()}\n",
    "\n",
    "print('Most common words and weights: \\n')\n",
    "print(sorted(weights.items(), key=lambda x: x[1] if x[1] > 0 else 9999)[:10])\n",
    "\n",
    "def tfidf_word_match_share(row):\n",
    "    q1words = {}\n",
    "    q2words = {}\n",
    "    for word in str(row['question1']).lower().split():\n",
    "        if word not in stops:\n",
    "            q1words[word] = 1\n",
    "    for word in str(row['question2']).lower().split():\n",
    "        if word not in stops:\n",
    "            q2words[word] = 1\n",
    "    if len(q1words) == 0 or len(q2words) == 0:\n",
    "        # The computer-generated chaff includes a few questions that are nothing but stopwords\n",
    "        return 0\n",
    "    \n",
    "    shared_weights = np.array([float(weights.get(w, 0)) for w in q1words.keys() if w in q2words])\n",
    "    + np.array([float(weights.get(w, 0)) for w in q2words.keys() if w in q1words])\n",
    "    total_weights = np.sum([float(weights.get(w, 0)) for w in q1words]) + np.sum([float(weights.get(w, 0))\n",
    "                                                                                      for w in q2words])\n",
    "\n",
    "    R = np.sum(shared_weights) / np.sum(total_weights)\n",
    "\n",
    "    return R"
   ]
  },
  {
   "cell_type": "markdown",
   "metadata": {},
   "source": [
    "### Extracted features\n",
    "\n",
    "From the raw data and the clean data, a set of metric has been defined to compare two questions. It results a set of over 25 features that characterize the questions.In the next figures a Random Forest is trained in order to determine most important features that greatly influence the performance of the learning algorithm and give an intuition of useless features."
   ]
  },
  {
   "cell_type": "markdown",
   "metadata": {},
   "source": [
    "#### Extracted Features Correlation Matrix\n",
    "<td><img src=\"figures/correlationplot.png\" alt=\"\" /></td>"
   ]
  },
  {
   "cell_type": "markdown",
   "metadata": {},
   "source": [
    "Uncorrelated features are those that are not similarity metrics, hence suggesting to remove them for further experiments."
   ]
  },
  {
   "cell_type": "markdown",
   "metadata": {
    "hideCode": true
   },
   "source": [
    "### Experimental Setting\n",
    "\n",
    "#### Representation of Questions\n",
    "* Vectorized representation: all words in the train dataset, use TFIDF (Term Frequency-Inverse Document Frequency) to determine most frequent words and only store a limited amount of words (e.g. 20, 1000, 20000). Each question will be represented by the frequency of each word in the question\n",
    "\n",
    "* Similarity metrics: once questions are vectorized, different measures are done to compare them, .e.g. lentgh of vectors or similarity measures are used with respect to each word frequency. Then using Word2vec, each word of each question are represented in a $|N^d$ space. Then similarity metrics are used to compare question pairs.\n",
    "\n",
    "* An embedding technic relying on embedding a model that maps words in a $|N^d$ space. Word2vec is used to vectorize words of each questions that is sliced in sequences of words.\n",
    "\n",
    "* From the embedded vector a representation is learned from a convolutional layers within a neural network \n",
    "\n",
    "#### Machine Learning Methods\n",
    "\n",
    "* Random Forest\n",
    "* XGBoost\n",
    "* SVM (but failed due to the number of samples and dimensions\n",
    "* Deep Network:\n",
    "    * Multi layer Perceptron\n",
    "    * Dual Convolutional Network\n",
    "    * DUAL CONVolutional LSTM\n",
    "    * Dual LSTM with dense layer\n",
    "    * BIRNN  with attention layer\n"
   ]
  },
  {
   "cell_type": "code",
   "execution_count": null,
   "metadata": {
    "collapsed": true
   },
   "outputs": [],
   "source": []
  },
  {
   "cell_type": "markdown",
   "metadata": {},
   "source": [
    "#### Results\n",
    "\n",
    "<table style=\"width:80%\">\n",
    "<tr>\n",
    "    <td><img src=\"figures/cross_validation_classifier_cleanFalse.png\" alt=\"Mountain View\"></td>\n",
    "    <td><img src=\"figures/cross_validation_classifier_cleanTrue.png\" alt=\"Mountain View\"></td>\n",
    "    <td><img src=\"figures/cross_validation_classifier_extracted_features_cleanFalse.png\" alt=\"Mountain View\"></td>\n",
    "  </tr>\n",
    "  <tr>\n",
    "    <td>Raw Data</td>\n",
    "    <td>Cleaned Data</td>\n",
    "    <td>With Extracted features</td>\n",
    "  </tr>\n",
    "\n",
    "</table>\n"
   ]
  },
  {
   "cell_type": "markdown",
   "metadata": {},
   "source": [
    "Bi Convolutional Network\n",
    "<img src=\"figures/06M_05D__23h_27min_TOT_WTIW_VYES_DYES_False_with GRU_plot_model.png\" alt=\"Mountain View\">\n"
   ]
  },
  {
   "cell_type": "markdown",
   "metadata": {},
   "source": [
    "<img src=\"figures/06M_05D__23h_27min_TOT_WTIW_VYES_DYES_False_with GRU_plot_training.png\" alt=\"Mountain View\">\n"
   ]
  },
  {
   "cell_type": "markdown",
   "metadata": {},
   "source": [
    "BILSTM\n",
    "<img src=\"figures/06M_05D__06h_38min_TOT_WGLO_VYES_DYES_False__plot_model.png\" >\n"
   ]
  },
  {
   "cell_type": "markdown",
   "metadata": {},
   "source": [
    "<img src=\"figures/06M_05D__06h_45min_TOT_WGLO_VYES_DYES_False__plot_training.png\" >\n"
   ]
  },
  {
   "cell_type": "markdown",
   "metadata": {},
   "source": [
    "#### Discussion\n",
    "Despite good results with Deep learning such algorithm remain tedious to tune. Here we observe that a huge limitation of machine learning methods when classes are unbalanced: it results in poor apprixomation of the delimiting hyperplane. \n",
    "\n",
    "However several work must be done:\n",
    "* improve cleaning the data\n",
    "* Data augmentation\n",
    "* Take the problem as an anomaly detection \n"
   ]
  }
 ],
 "metadata": {
  "celltoolbar": "Hide code",
  "hide_code_all_hidden": false,
  "kernelspec": {
   "display_name": "Python 2",
   "language": "python",
   "name": "python2"
  },
  "language_info": {
   "codemirror_mode": {
    "name": "ipython",
    "version": 2
   },
   "file_extension": ".py",
   "mimetype": "text/x-python",
   "name": "python",
   "nbconvert_exporter": "python",
   "pygments_lexer": "ipython2",
   "version": "2.7.12"
  }
 },
 "nbformat": 4,
 "nbformat_minor": 2
}
